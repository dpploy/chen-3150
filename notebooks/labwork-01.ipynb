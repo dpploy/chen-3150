{
 "cells": [
  {
   "cell_type": "markdown",
   "metadata": {},
   "source": [
    "ChEn-3150: Unit Operations Laboratory Fall 2020 UMass Lowell; Profs. Keyvani and de Almeida **24May20**\n",
    "\n",
    "# Laboratory Work 01: Rotameter Calibration (08Sep20)\n",
    "$\n",
    "  \\newcommand{\\Amtrx}{\\boldsymbol{\\mathsf{A}}}\n",
    "  \\newcommand{\\Bmtrx}{\\boldsymbol{\\mathsf{B}}}\n",
    "  \\newcommand{\\Cmtrx}{\\boldsymbol{\\mathsf{C}}}\n",
    "  \\newcommand{\\Mmtrx}{\\boldsymbol{\\mathsf{M}}}\n",
    "  \\newcommand{\\Imtrx}{\\boldsymbol{\\mathsf{I}}}\n",
    "  \\newcommand{\\Pmtrx}{\\boldsymbol{\\mathsf{P}}}\n",
    "  \\newcommand{\\Qmtrx}{\\boldsymbol{\\mathsf{Q}}}\n",
    "  \\newcommand{\\Lmtrx}{\\boldsymbol{\\mathsf{L}}}\n",
    "  \\newcommand{\\Umtrx}{\\boldsymbol{\\mathsf{U}}}\n",
    "  \\newcommand{\\xvec}{\\boldsymbol{\\mathsf{x}}}\n",
    "  \\newcommand{\\yvec}{\\boldsymbol{\\mathsf{y}}}\n",
    "  \\newcommand{\\zvec}{\\boldsymbol{\\mathsf{z}}}\n",
    "  \\newcommand{\\avec}{\\boldsymbol{\\mathsf{a}}}\n",
    "  \\newcommand{\\bvec}{\\boldsymbol{\\mathsf{b}}}\n",
    "  \\newcommand{\\cvec}{\\boldsymbol{\\mathsf{c}}}\n",
    "  \\newcommand{\\rvec}{\\boldsymbol{\\mathsf{r}}}\n",
    "  \\newcommand{\\norm}[1]{\\bigl\\lVert{#1}\\bigr\\rVert}\n",
    "  \\DeclareMathOperator{\\rank}{rank}\n",
    "  \\DeclareMathOperator{\\abs}{abs}\n",
    "$"
   ]
  },
  {
   "cell_type": "markdown",
   "metadata": {},
   "source": [
    "### Name: `your name`"
   ]
  },
  {
   "cell_type": "markdown",
   "metadata": {},
   "source": [
    "### <span style=\"color:red\">Guidance:</span>\n",
    " +  <span style=\"color:red\"> \n",
    "    P stands for Physical | D stands for Digital\n",
    "    </span>\n",
    " +  <span style=\"color:red\">\n",
    "    guidance.\n",
    "    </span>\n",
    " +  <span style=\"color:red\">\n",
    "    guidance.\n",
    "    </span>"
   ]
  },
  {
   "cell_type": "markdown",
   "metadata": {},
   "source": [
    "---\n",
    "### Table of Contents<a id=\"toc\"></a>\n",
    "* [1. Introduction](#a1) \n",
    " - [Physical Objective](#a11)\n",
    "| [Digital Objective](#a12) \n",
    " - [Background & Theory](#a13)"
   ]
  },
  {
   "cell_type": "markdown",
   "metadata": {},
   "source": [
    "* [2. Apparatus & Procedure](#a2) \n",
    " - [P-SOP](#a21) \n",
    "| [P-PFD](#a22) \n",
    " - [D-SOP](#a23) \n",
    "| [D-PFD](#a24)"
   ]
  },
  {
   "cell_type": "markdown",
   "metadata": {},
   "source": [
    "* [3. Experimental Design](#a3) \n",
    " - [Parameters & Variables](#a31) \n",
    " - [Ranges & Limits](#a32) \n",
    " - [Measurement Devices & Error](#a33)"
   ]
  },
  {
   "cell_type": "markdown",
   "metadata": {},
   "source": [
    "* [4. Data Collection](#a4) \n",
    " - [Safety Check-in](#a41) \n",
    " - [P-Raw Data Tables](#a42) \n",
    "| [P-Calculated Data Tables](#a43) \n",
    " - [D-Raw Data Tables](#a44) \n",
    "| [D-Calculated Data Tables](#a45)\n",
    " - [Digital Operation](#a46)"
   ]
  },
  {
   "cell_type": "markdown",
   "metadata": {},
   "source": [
    "* [5. Data Analysis & Observations](#a5) \n",
    " - [P-Observations](#a51) \n",
    "| [D-Observation](#a52) \n",
    " - [Primary Analysis](#a53) \n",
    "| [Secondary Analysis](#54) \n",
    " - [Initial Conclusions](#a55) \n",
    "| [Initial Recommendations](#a56)"
   ]
  },
  {
   "cell_type": "markdown",
   "metadata": {},
   "source": [
    "* [6. Lockout/Tagout Procedure](#a6)"
   ]
  },
  {
   "cell_type": "markdown",
   "metadata": {},
   "source": [
    "##  [<span style=\"color:blue\">1. Introduction</span>](#toc)<a id=\"a1\"></a>"
   ]
  },
  {
   "cell_type": "markdown",
   "metadata": {},
   "source": [
    "[<span style=\"color:blue\">1.1)</span>](#toc)\n",
    "<span style=\"color:blue\">\n",
    "Physical Objective\n",
    "</span><a id=\"a11\"></a>"
   ]
  },
  {
   "cell_type": "markdown",
   "metadata": {},
   "source": [
    "<span style=\"color:blue\">In the unit Operations laboratory, there exists two rotameter stands with 4 different rotameters attached to each. These rotameters measure the flow of water through them as a percentage of a maximum flow rate that is unique to each rotameter. Therefore, the scale on the rotameter does not represent a true value for the flowrate. For this reason, each individual rotameter must be calibrated by employing a linear regression to fit experimentally measured flowrate values with rotameter readings.</span>"
   ]
  },
  {
   "cell_type": "markdown",
   "metadata": {},
   "source": [
    "[<span style=\"color:blue\">1.2)</span>](#toc)\n",
    "<span style=\"color:blue\">\n",
    "Digital Objective\n",
    "</span><a id=\"a12\"></a>"
   ]
  },
  {
   "cell_type": "markdown",
   "metadata": {},
   "source": [
    "<span style=\"color:blue\">To extract original set of data in case you were unable to attend (with instructor permission only) or to compare physical data to a reliable source, digital rotameter will generate rotameter reading values corresponding to flowrate output of the apparatus.</span>"
   ]
  },
  {
   "cell_type": "markdown",
   "metadata": {},
   "source": [
    "[<span style=\"color:blue\">1.3)</span>](#toc)\n",
    "<span style=\"color:blue\">\n",
    "Background & Theory\n",
    "</span><a id=\"a13\"></a>"
   ]
  },
  {
   "cell_type": "markdown",
   "metadata": {},
   "source": [
    "<span style=\"color:blue\">A rotameter is a device that measures the volumetric flowrate of a fluid in a closed tube. The first rotameter was invented by Karl Kueppers in 1908. However, it was GEC ELLiot automation compnay who registered the brand name Rotameter. **Name 3 advantages and 3 disadantages of rotameters. A rotameter consistes of a tapered tube and a 'float' where the float levitates as a result of the balace between gravitational force pulling it down and fluid drag force pushing it up. **What is the drag force function of? (flowspeed, fluid, float cross-section area) A higher volumetric flowrate through a given area increases flow speed and drag force, resulting s a upward movement of the float inside the glass. As shown in the figure below, the inside of the tapered glass is cone-shaped and as the floar moves up, the are around the float through which the medium flows increases, the flow speed and drag fore decreseas until there is a mechanical equilibrium with the float's weight. **For measuring the flowrate of water, what is hte acceptable range for the density of the float material?</span>"
   ]
  },
  {
   "cell_type": "markdown",
   "metadata": {},
   "source": [
    "|   |\n",
    "|:---|\n",
    "|<img  width=\"100\" src=\"https://raw.githubusercontent.com/EhsanKeyvani/chen-3150/master/notebooks/images/float-levitation.jpg\" title=\"Float Levitation Mechanism\"> |"
   ]
  },
  {
   "cell_type": "markdown",
   "metadata": {},
   "source": [
    "## [<span style=\"color:blue\">2. Apparatus & Procedures</span>](#toc)<a id=\"a2\"></a>"
   ]
  },
  {
   "cell_type": "markdown",
   "metadata": {},
   "source": [
    "[<span style=\"color:blue\">2.1)</span>](#toc)\n",
    "<span style=\"color:blue\">\n",
    "Physical Standard Operating Procedure (P-SOP)\n",
    "</span><a id=\"a21\"></a>"
   ]
  },
  {
   "cell_type": "markdown",
   "metadata": {},
   "source": [
    "<span style=\"color:blue\">The procedure listed below is for the use of rotameter 3. The same method can be applied to any other rotameter. <br /><span style=\"color:blue\"> <br /><span style=\"color:blue\">Start-up Procedure <br /><span style=\"color:blue\">1. Open outlet globe valve (G3)<br /><span style=\"color:blue\">2. Open the ball valves for rotameter three (B5 and B6) always from the outlet to inlet<br /><span style=\"color:blue\">3. Open secondary inlet globe valve (G2)<br /><span style=\"color:blue\">4. Open main feed valve (F)<br /><span style=\"color:blue\">5. Slowly open inlet globe valve (G1) until marker on rotameter 3 reaches desired flow percentage<br /><span style=\"color:blue\"> <br /><span style=\"color:blue\">Operating Procedure<br /><span style=\"color:blue\">1. Adjust inlet globe valve (G1) until rotameter three at desired flow percentage<br /><span style=\"color:blue\">2. Place empty bucket near outlet hose<br /><span style=\"color:blue\">3. Start timer and place hose inside bucket simultaneously<br /><span style=\"color:blue\">4. Fill bucket roughly halfway for flow percentages equal to or below 60; fill to top for the rest<br /><span style=\"color:blue\">5. Pull hose away from bucket and stop timer simultaneously (jot down time)<br /><span style=\"color:blue\">6. Turn inlet globe valve (G1) off<br /><span style=\"color:blue\">7. Weight bucket (jot down weight)<br /><span style=\"color:blue\">8. Reset stop watch, drain bucket<br /><span style=\"color:blue\">9. Return to step 1<br /><span style=\"color:blue\"> <br /><span style=\"color:blue\">Shutdown Procedure<br /><span style=\"color:blue\">1. Close inlet globe valve (G1)<br /><span style=\"color:blue\">2. Close main feed valve (F)<br /><span style=\"color:blue\">3. Close secondary inlet globe valve (G2)<br /><span style=\"color:blue\">4. Close ball valves for rotameter three (B5 and B6)<br /><span style=\"color:blue\">5. Close outlet globe valve (G3)</span>"
   ]
  },
  {
   "cell_type": "markdown",
   "metadata": {},
   "source": [
    "[<span style=\"color:blue\">2.2)</span>](#toc)\n",
    "<span style=\"color:blue\">\n",
    "Physical Process Flow Diagram (P-PFD)\n",
    "</span><a id=\"a22\"></a>"
   ]
  },
  {
   "cell_type": "markdown",
   "metadata": {},
   "source": [
    "|   |\n",
    "|:---|\n",
    "|<img  width=\"300\" src=\"https://raw.githubusercontent.com/dpploy/chen-3150/master/notebooks/images/rotatmeter-schematics.jpg\" title=\"Rotameter Apparatus\"> |"
   ]
  },
  {
   "cell_type": "markdown",
   "metadata": {},
   "source": [
    "[<span style=\"color:blue\">2.3)</span>](#toc)\n",
    "<span style=\"color:blue\">\n",
    "Digital Standard Operating Procedure (D-SOP)\n",
    "</span><a id=\"a23\"></a>"
   ]
  },
  {
   "cell_type": "markdown",
   "metadata": {},
   "source": [
    "<span style=\"color:blue\"> **Use proper functions to open, close, and alter valve openings. Following the correct sequence is essential for operating the apparatus, otherwise you will recieve a warning point for each faulty run (** is this possible to record?) Once the valve openings are set to a certain conficgurations, record the weight of the bucket and location of the float. By timing the process, you will be able to calculate the digital flowrate.</span>"
   ]
  },
  {
   "cell_type": "markdown",
   "metadata": {},
   "source": [
    "[<span style=\"color:blue\">2.4)</span>](#toc)\n",
    "<span style=\"color:blue\">\n",
    "Digital Process Flow Diagram (D-PFD)\n",
    "</span><a id=\"a24\"></a>"
   ]
  },
  {
   "cell_type": "code",
   "execution_count": null,
   "metadata": {},
   "outputs": [],
   "source": [
    "from chen_3150 import rotameter_apparatus as rotapp\n",
    "\n",
    "rotapp.help\n",
    "roapp.status"
   ]
  },
  {
   "cell_type": "markdown",
   "metadata": {},
   "source": [
    "<span style=\"color:blue\">Operate Rotameter 4</span>"
   ]
  },
  {
   "cell_type": "code",
   "execution_count": null,
   "metadata": {},
   "outputs": [],
   "source": [
    "rotapp.open_g3\n",
    "rotapp.open_b8\n",
    "rotapp.open_b7\n",
    "rotapp.open_g2\n",
    "rotapp.open_g1"
   ]
  },
  {
   "cell_type": "markdown",
   "metadata": {},
   "source": [
    "<span style=\"color:blue\">Operate Rotameter 3: (Attention: An step-down process is required)</span>"
   ]
  },
  {
   "cell_type": "code",
   "execution_count": null,
   "metadata": {},
   "outputs": [],
   "source": [
    "rotapp.open_b6\n",
    "rotapp.open_b5\n",
    "rotapp.close_b7\n",
    "rotapp.close_b8\n",
    "rotapp.Alt_g3"
   ]
  },
  {
   "cell_type": "markdown",
   "metadata": {},
   "source": [
    "<span style=\"color:blue\">Operate Rotameter 2 & 1: (Attention: An step-down process is required for each rotameter)</span>"
   ]
  },
  {
   "cell_type": "code",
   "execution_count": null,
   "metadata": {},
   "outputs": [],
   "source": [
    "rotapp.open_** needs to be filled by students\n",
    "rotapp.open_??\n",
    "rotapp.close_??\n",
    "rotapp.close_??\n",
    "rotapp.Alt_??"
   ]
  },
  {
   "cell_type": "markdown",
   "metadata": {},
   "source": [
    "## [<span style=\"color:blue\">3. Experimental Design</span>](#toc)<a id=\"a3\"></a>"
   ]
  },
  {
   "cell_type": "markdown",
   "metadata": {},
   "source": [
    "[<span style=\"color:blue\">3.1)</span>](#toc)\n",
    "<span style=\"color:blue\">\n",
    "Parameters & Variables\n",
    "</span><a id=\"a31\"></a>"
   ]
  },
  {
   "cell_type": "markdown",
   "metadata": {},
   "source": [
    "<span style=\"color:blue\">What are the varibales that can be controlled for this experiment?What are the units of those parameters?<br /><span style=\"color:blue\">How many runs,trials, data points, etc. are you planning to record? Why?</span>"
   ]
  },
  {
   "cell_type": "markdown",
   "metadata": {},
   "source": [
    "[<span style=\"color:blue\">3.2)</span>](#toc)\n",
    "<span style=\"color:blue\">\n",
    "Ranges & Limits\n",
    "</span><a id=\"a32\"></a>"
   ]
  },
  {
   "cell_type": "markdown",
   "metadata": {},
   "source": [
    "<span style=\"color:blue\">What are the theoretical limits of variables?<br /><span style=\"color:blue\">What are the Experimental limits of variables?<br /><span style=\"color:blue\">What are the Digital limits of variables?</span>"
   ]
  },
  {
   "cell_type": "markdown",
   "metadata": {},
   "source": [
    "[<span style=\"color:blue\">3.3)</span>](#toc)\n",
    "<span style=\"color:blue\">\n",
    "Measurement Devices & Errors\n",
    "</span><a id=\"a33\"></a>"
   ]
  },
  {
   "cell_type": "markdown",
   "metadata": {},
   "source": [
    "<span style=\"color:blue\">What is the error of measurement equipment?<br /><span style=\"color:blue\">Have you used any different tools? What is the error for your tool?</span>"
   ]
  },
  {
   "cell_type": "markdown",
   "metadata": {},
   "source": [
    "## [<span style=\"color:blue\">4. Data Collection</span>](#toc)<a id=\"a4\"></a>"
   ]
  },
  {
   "cell_type": "markdown",
   "metadata": {},
   "source": [
    "[<span style=\"color:blue\">4.1)</span>](#toc)\n",
    "<span style=\"color:blue\">\n",
    "Safety Check-in\n",
    "</span><a id=\"a41\"></a>"
   ]
  },
  {
   "cell_type": "markdown",
   "metadata": {},
   "source": [
    "<span style=\"color:blue\">This section needs to be completed BEFORE you start your lab!<br />[To complete the safety check-in form, click here.](https://forms.gle/22a4hMsy85emQ3rB9)"
   ]
  },
  {
   "cell_type": "markdown",
   "metadata": {},
   "source": [
    "[<span style=\"color:blue\">4.2)</span>](#toc)\n",
    "<span style=\"color:blue\">\n",
    "P-Raw Data Tables\n",
    "</span><a id=\"a42\"></a>"
   ]
  },
  {
   "cell_type": "markdown",
   "metadata": {},
   "source": [
    "<span style=\"color:blue\">Design your data tables based on your DOE plan **Table function is needed, also once they have finalized their data collection in P-Lab they should use a function to submit their raw data to our library</span>"
   ]
  },
  {
   "cell_type": "markdown",
   "metadata": {},
   "source": [
    "[<span style=\"color:blue\">4.3)</span>](#toc)\n",
    "<span style=\"color:blue\">\n",
    "P-Calculated Data Tables\n",
    "</span><a id=\"a43\"></a>"
   ]
  },
  {
   "cell_type": "markdown",
   "metadata": {},
   "source": [
    "<span style=\"color:blue\">Transform the raw data to desired valuables; Input equations for automated calculations **Table and equation function is needed</span>"
   ]
  },
  {
   "cell_type": "markdown",
   "metadata": {},
   "source": [
    "[<span style=\"color:blue\">4.4)</span>](#toc)\n",
    "<span style=\"color:blue\">\n",
    "D-Raw Data Tables\n",
    "</span><a id=\"a44\"></a>"
   ]
  },
  {
   "cell_type": "markdown",
   "metadata": {},
   "source": [
    "<span style=\"color:blue\">Design your data tables based on your DOE plan **Table function is needed</span>"
   ]
  },
  {
   "cell_type": "markdown",
   "metadata": {},
   "source": [
    "[<span style=\"color:blue\">4.5)</span>](#toc)\n",
    "<span style=\"color:blue\">\n",
    "D-Calculated Data Tables\n",
    "</span><a id=\"a45\"></a>"
   ]
  },
  {
   "cell_type": "markdown",
   "metadata": {},
   "source": [
    "<span style=\"color:blue\">Transform the raw data to desired valuables; Input equations for automated calculations **Table and equation function is needed</span>"
   ]
  },
  {
   "cell_type": "markdown",
   "metadata": {},
   "source": [
    "[<span style=\"color:blue\">4.6)</span>](#toc)\n",
    "<span style=\"color:blue\">\n",
    "Digital Operation\n",
    "</span><a id=\"a46\"></a>"
   ]
  },
  {
   "cell_type": "code",
   "execution_count": null,
   "metadata": {},
   "outputs": [],
   "source": [
    "rotapp.open_g1\n",
    "rotapp.open_g3"
   ]
  },
  {
   "cell_type": "markdown",
   "metadata": {},
   "source": [
    "## [<span style=\"color:blue\">5. Data Analysis & Observations</span>](#toc)<a id=\"a5\"></a>"
   ]
  },
  {
   "cell_type": "markdown",
   "metadata": {},
   "source": [
    "[<span style=\"color:blue\">5.1)</span>](#toc)\n",
    "<span style=\"color:blue\">\n",
    "P-Observations\n",
    "</span><a id=\"a51\"></a>"
   ]
  },
  {
   "cell_type": "markdown",
   "metadata": {},
   "source": [
    "<span style=\"color:blue\">Does your findings match the theory?<br /><span style=\"color:blue\">What went wrong? What was unexpected? How did you handle the situation?</span>"
   ]
  },
  {
   "cell_type": "markdown",
   "metadata": {},
   "source": [
    "[<span style=\"color:blue\">5.2)</span>](#toc)\n",
    "<span style=\"color:blue\">\n",
    "D-Observations\n",
    "</span><a id=\"a52\"></a>"
   ]
  },
  {
   "cell_type": "markdown",
   "metadata": {},
   "source": [
    "<span style=\"color:blue\">If you have P-data, do they match your D-data?<br /><span style=\"color:blue\">How does the D-apparatus differs from the real one?</span>"
   ]
  },
  {
   "cell_type": "markdown",
   "metadata": {},
   "source": [
    "[<span style=\"color:blue\">5.3)</span>](#toc)\n",
    "<span style=\"color:blue\">\n",
    "Primary Analysis: What is your main investigation?\n",
    "</span><a id=\"a53\"></a>"
   ]
  },
  {
   "cell_type": "markdown",
   "metadata": {},
   "source": [
    "[<span style=\"color:blue\">5.4)</span>](#toc)\n",
    "<span style=\"color:blue\">\n",
    "Secondary Analysis: What are other methodologies to investigate?\n",
    "</span><a id=\"a54\"></a>"
   ]
  },
  {
   "cell_type": "markdown",
   "metadata": {},
   "source": [
    "[<span style=\"color:blue\">5.5)</span>](#toc)\n",
    "<span style=\"color:blue\">\n",
    "Initial Conclusions: What have you achieved today?\n",
    "</span><a id=\"a55\"></a>"
   ]
  },
  {
   "cell_type": "markdown",
   "metadata": {},
   "source": [
    "[<span style=\"color:blue\">5.6)</span>](#toc)\n",
    "<span style=\"color:blue\">\n",
    "Initial Recommendations: What should the next users consider?\n",
    "</span><a id=\"a56\"></a>"
   ]
  },
  {
   "cell_type": "markdown",
   "metadata": {},
   "source": [
    "## [<span style=\"color:blue\">6. Lockout/Tagout Procedure</span>](#toc)<a id=\"a6\"></a>"
   ]
  },
  {
   "cell_type": "markdown",
   "metadata": {},
   "source": [
    "<span style=\"color:blue\">This section needs to be completed After your experimentation<br />[To complete the safety checkout form, click here.](https://forms.gle/jyRP1dsu8eEY5Axv8)"
   ]
  },
  {
   "cell_type": "code",
   "execution_count": null,
   "metadata": {},
   "outputs": [],
   "source": []
  }
 ],
 "metadata": {
  "kernelspec": {
   "display_name": "Python 3",
   "language": "python",
   "name": "python3"
  },
  "language_info": {
   "codemirror_mode": {
    "name": "ipython",
    "version": 3
   },
   "file_extension": ".py",
   "mimetype": "text/x-python",
   "name": "python",
   "nbconvert_exporter": "python",
   "pygments_lexer": "ipython3",
   "version": "3.7.1"
  },
  "latex_envs": {
   "LaTeX_envs_menu_present": true,
   "autoclose": false,
   "autocomplete": true,
   "bibliofile": "biblio.bib",
   "cite_by": "apalike",
   "current_citInitial": 1,
   "eqLabelWithNumbers": true,
   "eqNumInitial": 1,
   "hotkeys": {
    "equation": "Ctrl-E",
    "itemize": "Ctrl-I"
   },
   "labels_anchors": false,
   "latex_user_defs": false,
   "report_style_numbering": false,
   "user_envs_cfg": false
  }
 },
 "nbformat": 4,
 "nbformat_minor": 2
}
